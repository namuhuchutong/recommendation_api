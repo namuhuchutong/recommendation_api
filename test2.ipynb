{
 "cells": [
  {
   "cell_type": "code",
   "execution_count": 116,
   "metadata": {
    "collapsed": true
   },
   "outputs": [],
   "source": [
    "import pickle\n",
    "import pandas as pd\n",
    "import numpy as np\n",
    "from ast import literal_eval\n",
    "from surprise import Reader, Dataset, SVD\n",
    "from surprise.model_selection.validation import cross_validate\n",
    "from sklearn.feature_extraction.text import TfidfVectorizer, CountVectorizer\n",
    "from sklearn.metrics.pairwise import linear_kernel, cosine_similarity"
   ]
  },
  {
   "cell_type": "code",
   "execution_count": 117,
   "outputs": [],
   "source": [
    "filename = 'svd.pickle'\n",
    "svd = pickle.load(open(filename, 'rb'))\n",
    "\n",
    "dataname = 'dataset.pickle'\n",
    "smd = pickle.load(open(dataname, 'rb'))\n",
    "\n",
    "indices = pickle.load(open('linkMap.pickle', 'rb'))"
   ],
   "metadata": {
    "collapsed": false,
    "pycharm": {
     "name": "#%%\n"
    }
   }
  },
  {
   "cell_type": "code",
   "execution_count": 118,
   "outputs": [],
   "source": [
    "class ContentsBased(object):\n",
    "\n",
    "    def __init__(self, data):\n",
    "        self.smd = data\n",
    "        self.count = CountVectorizer(analyzer='word',ngram_range=(1, 2),min_df=0, stop_words='english')\n",
    "        self.count_matrix = self.count.fit_transform(self.smd['soup'])\n",
    "        self.cosine_sim = cosine_similarity(self.count_matrix, self.count_matrix)\n",
    "        self.smd = self.smd.reset_index()\n",
    "        self.titles = self.smd['title']\n",
    "        self.indices = pd.Series(self.smd.index, index=self.smd['title'])\n",
    "\n",
    "    def calc_sim(self, title):\n",
    "        idx = self.indices[title]\n",
    "        sim_scores = list(enumerate(self.cosine_sim[idx]))\n",
    "        sim_scores = sorted(sim_scores, key=lambda x: x[1], reverse=True)\n",
    "        sim_scores = sim_scores[1:30]\n",
    "        return sim_scores\n",
    "\n",
    "    def predict(self, title):\n",
    "        sim_scores = self.calc_sim(title)\n",
    "        movie_indices = [i[0] for i in sim_scores]\n",
    "        return self.titles.iloc[movie_indices]"
   ],
   "metadata": {
    "collapsed": false,
    "pycharm": {
     "name": "#%%\n"
    }
   }
  },
  {
   "cell_type": "code",
   "execution_count": 131,
   "outputs": [],
   "source": [
    "class Hybrid(object):\n",
    "\n",
    "    def __init__(self, data, model, indices, contentbase):\n",
    "        self.smd = data\n",
    "        self.svd = model\n",
    "        self.contentbase = contentbase\n",
    "        self.indices_map = indices\n",
    "\n",
    "    def hybrid(self, user, title):\n",
    "        sim_scores = self.contentbase.calc_sim(title)\n",
    "        movie_indices = [i[0] for i in sim_scores]\n",
    "\n",
    "        movies = self.smd.iloc[movie_indices][['title', 'id']]\n",
    "        movies['est'] = movies['id'].apply(lambda x: self.svd.predict(user, self.indices_map.loc[x]['movieId']).est)\n",
    "        movies = movies.sort_values('est', ascending=False)\n",
    "        del movies['est']\n",
    "        return movies.head(20)\n",
    "\n",
    "    def content_predict(self, title):\n",
    "        return self.contentbase.predict(title)"
   ],
   "metadata": {
    "collapsed": false,
    "pycharm": {
     "name": "#%%\n"
    }
   }
  },
  {
   "cell_type": "code",
   "execution_count": 132,
   "outputs": [],
   "source": [
    "class Recommender:\n",
    "\n",
    "    def __init__(self):\n",
    "        with open('dataset.pickle', 'rb') as f:\n",
    "            self.dataset = pickle.load(f)\n",
    "        with open('linkMap.pickle', 'rb') as f:\n",
    "            self.indices = pickle.load(f)\n",
    "        with open('svd.pickle', 'rb') as f:\n",
    "            self.svd = pickle.load(f)\n",
    "\n",
    "        self.content = ContentsBased(self.dataset)\n",
    "        self.hybrid = Hybrid(self.dataset, self.svd, self.indices, self.content)\n",
    "\n",
    "    def get_content_recommend(self, title):\n",
    "        if title in self.dataset.values:\n",
    "            output = {\n",
    "                    'content': list(self.content.predict(title))\n",
    "                }\n",
    "        else:\n",
    "            output = None\n",
    "        return output\n",
    "\n",
    "    def get_user_recommend(self, title, user):\n",
    "        if title in self.dataset.values:\n",
    "            output = {\n",
    "                'hybrid': self.hybrid.hybrid(user, title)\n",
    "            }\n",
    "        else:\n",
    "            output = None\n",
    "        return output"
   ],
   "metadata": {
    "collapsed": false,
    "pycharm": {
     "name": "#%%\n"
    }
   }
  },
  {
   "cell_type": "code",
   "execution_count": 133,
   "outputs": [],
   "source": [
    "a = Recommender()"
   ],
   "metadata": {
    "collapsed": false,
    "pycharm": {
     "name": "#%%\n"
    }
   }
  },
  {
   "cell_type": "code",
   "execution_count": 122,
   "outputs": [
    {
     "name": "stdout",
     "output_type": "stream",
     "text": [
      "{'content': ['Blade Runner', 'Prometheus', 'Gladiator', 'The Duellists', 'American Gangster', 'Thelma & Louise', 'Exodus: Gods and Kings', 'Kingdom of Heaven', 'Alien', 'White Squall', 'G.I. Jane', 'Legend', 'Robin Hood', 'Body of Lies', 'The Counselor', 'Someone to Watch Over Me', 'Hannibal', 'Matchstick Men', 'Black Rain', 'Black Hawk Down', 'The Fountain', 'Interstellar', 'Jurassic Park', 'Spacehunter: Adventures in the Forbidden Zone', 'Stargate: Continuum', 'Stargate', 'Independence Day', '20,000 Leagues Under the Sea', 'Six-String Samurai']}\n"
     ]
    }
   ],
   "source": [
    "result =a.get_content_recommend('The Martian')\n",
    "print(result)"
   ],
   "metadata": {
    "collapsed": false,
    "pycharm": {
     "name": "#%%\n"
    }
   }
  },
  {
   "cell_type": "code",
   "execution_count": 136,
   "outputs": [
    {
     "name": "stdout",
     "output_type": "stream",
     "text": [
      "8613                    Interstellar\n",
      "485                     Blade Runner\n",
      "3912                 Black Hawk Down\n",
      "2876                       Gladiator\n",
      "987                            Alien\n",
      "427                    Jurassic Park\n",
      "4812                  Matchstick Men\n",
      "7119                    Body of Lies\n",
      "7068             Stargate: Continuum\n",
      "2389        Someone to Watch Over Me\n",
      "4447                   The Duellists\n",
      "1816              Six-String Samurai\n",
      "841     20,000 Leagues Under the Sea\n",
      "2741                 Thelma & Louise\n",
      "80                      White Squall\n",
      "6881               American Gangster\n",
      "8805          Exodus: Gods and Kings\n",
      "648                 Independence Day\n",
      "3630                      Black Rain\n",
      "6190               Kingdom of Heaven\n",
      "Name: title, dtype: object\n"
     ]
    }
   ],
   "source": [
    "result = a.get_user_recommend('The Martian', 16)"
   ],
   "metadata": {
    "collapsed": false,
    "pycharm": {
     "name": "#%%\n"
    }
   }
  }
 ],
 "metadata": {
  "kernelspec": {
   "display_name": "Python 3",
   "language": "python",
   "name": "python3"
  },
  "language_info": {
   "codemirror_mode": {
    "name": "ipython",
    "version": 2
   },
   "file_extension": ".py",
   "mimetype": "text/x-python",
   "name": "python",
   "nbconvert_exporter": "python",
   "pygments_lexer": "ipython2",
   "version": "2.7.6"
  }
 },
 "nbformat": 4,
 "nbformat_minor": 0
}